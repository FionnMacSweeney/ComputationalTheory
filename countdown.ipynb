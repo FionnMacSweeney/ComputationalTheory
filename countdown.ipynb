{
 "cells": [
  {
   "cell_type": "markdown",
   "metadata": {},
   "source": [
    "# Countdown Number Game Solver\n",
    "\n",
    "## Introduction\n",
    "\n",
    "The Countdown Numbers Game is a popular segment of the television show \"Countdown,\" where contestants are challenged to reach a target number using a combination of six randomly selected numbers. The available numbers include two sets of integers from 1 to 10, and one set each of the larger numbers 25, 50, 75, and 100. Contestants are allowed to use each of these numbers once to perform operations of addition, subtraction, multiplication, and division to arrive at a randomly generated target number between 101 and 999.\n",
    "\n",
    "The complexity of this game arises not just from the randomness and variety of the numbers provided but also from the constraints on the operations. For example, division operations must result in integer outcomes, and subtraction operations must not result in negative numbers. This makes the strategic selection and combination of operations critical.\n",
    "\n",
    "This notebook aims to develop and implement a solution to solve the Countdown numbers game by creating a Python function named `solve_numbers`. This function will take any list of six numbers and a target number, and return a solution where possible. The focus will be on demonstrating how computational theory can be applied to solve such problems efficiently and exploring different computational paradigms and algorithms. Additionally, this notebook will serve as a platform to analyze the complexity of the problem and discuss the theoretical underpinnings of the chosen solution strategy."
   ]
  },
  {
   "cell_type": "markdown",
   "metadata": {},
   "source": [
    "# Theory and Research\n",
    "\n",
    "## Computational Complexity of the Countdown Numbers Game\n",
    "\n",
    "The Countdown Numbers Game presents an intriguing challenge from a computational perspective, primarily due to its reliance on combinatorial operations among selected numbers using basic arithmetic functions. The task is to determine whether a target number can be reached using any combination of six randomly chosen numbers and the operations of addition, subtraction, multiplication, and division.\n",
    "\n",
    "### Complexity Analysis\n",
    "The game can be likened to the subset sum problem in computer science, which is known to be NP-complete. The subset sum problem involves determining whether there are subsets of a given set of integers that can be summed to a particular value. Here, not only do we consider sums, but also the products, differences, and quotients, further complicating the problem.\n",
    "\n",
    "Each number can be used once, and operations must lead to integer results and non-negative outcomes for subtraction. The complexity thus stems from:\n",
    "- The need to explore each subset of numbers.\n",
    "- The sequence of operations applied to these subsets.\n",
    "- Ensuring operations adhere to the game’s rules.\n",
    "\n",
    "The factorial growth of permutations of operations combined with combinations of numbers used suggests an exponential growth in complexity as the size of the number set increases, characteristic of NP-complete problems.\n",
    "\n",
    "## Research Findings and Existing Solutions\n",
    "\n",
    "Several algorithmic approaches have been explored in similar numerical puzzle games, which can provide insights into possible solutions for the Countdown game.\n",
    "\n",
    "### Literature Review\n",
    "Research in areas such as game theory and artificial intelligence offers various strategies:\n",
    "- **Backtracking Algorithms**: Commonly used for problems where a solution involves a sequence of choices, such as our game. Backtracking would allow us to recursively search through the space of number and operation sequences, backing up at a decision point if a rule violation occurs.\n",
    "- **Dynamic Programming**: This method can be adapted for certain configurations of the game, particularly when reducing the problem to simpler subproblems, although its utility might be limited by the game’s demand for using numbers exactly once.\n",
    "- **Heuristic-Based Approaches**: Algorithms like genetic algorithms or simulated annealing could be applied to explore large search spaces more efficiently than brute force, especially for approaching near-optimal solutions when an exact solution is not feasible.\n",
    "\n",
    "### Comparison to Similar Work\n",
    "Comparative analysis with other number-based games such as \"Sudoku\" and \"KenKen\" indicates that while the fundamental principles of constraint satisfaction apply here as well, the real-time aspect of Countdown and its specific ruleset demand unique solutions. Studies on these games emphasize the effectiveness of hybrid approaches combining several algorithms to balance completeness and efficiency.\n",
    "\n",
    "## Conclusion of Theory and Research\n",
    "This overview underscores the computational intensity of the Countdown numbers game and highlights a spectrum of algorithmic strategies that can be tailored to meet the challenge. The following section on implementation will explore how these theories can be practically applied to construct an efficient solver for the game.\n"
   ]
  },
  {
   "cell_type": "markdown",
   "metadata": {},
   "source": [
    "# Implementation\n",
    "\n",
    "## Backtracking algorithm"
   ]
  },
  {
   "cell_type": "code",
   "execution_count": 4,
   "metadata": {},
   "outputs": [
    {
     "name": "stdout",
     "output_type": "stream",
     "text": [
      "Numbers: [4, 8, 75, 6, 9, 4]\n",
      "Target: 433\n"
     ]
    }
   ],
   "source": [
    "import random\n",
    "\n",
    "def generate_numbers():\n",
    "    # Define the pool of numbers with the correct quantities\n",
    "    large_numbers = [25, 50, 75, 100]  # One copy of each large number\n",
    "    small_numbers = [1, 2, 3, 4, 5, 6, 7, 8, 9, 10] * 2  # Two copies of each small number\n",
    "    \n",
    "    # Combine the pools of numbers\n",
    "    all_numbers = large_numbers + small_numbers\n",
    "    \n",
    "    # Randomly select 6 numbers from the combined pool\n",
    "    numbers_chosen = random.sample(all_numbers, k=6)\n",
    "\n",
    "    return numbers_chosen\n",
    "\n",
    "def generate_target():\n",
    "    return random.randint(101, 999)\n",
    "\n",
    "# Example usage\n",
    "numbers = generate_numbers()\n",
    "target = generate_target()\n",
    "print(\"Numbers:\", numbers)\n",
    "print(\"Target:\", target)\n"
   ]
  },
  {
   "cell_type": "markdown",
   "metadata": {},
   "source": [
    "## Number and Target Generation\n",
    "\n",
    "This section of the notebook is dedicated to generating the random set of numbers and the target number for the Countdown game. The function `generate_numbers` selects six numbers from a predefined set that includes both small numbers (1 through 10, each appearing twice) and large numbers (25, 50, 75, and 100, each appearing once). The function `generate_target` randomly picks a target number between 101 and 999, inclusive.\n"
   ]
  },
  {
   "cell_type": "code",
   "execution_count": 5,
   "metadata": {},
   "outputs": [],
   "source": [
    "import random\n",
    "\n",
    "def generate_numbers():\n",
    "    large_numbers = [25, 50, 75, 100]\n",
    "    small_numbers = [1, 2, 3, 4, 5, 6, 7, 8, 9, 10] * 2\n",
    "    all_numbers = large_numbers + small_numbers\n",
    "    return random.sample(all_numbers, k=6)\n",
    "\n",
    "def generate_target():\n",
    "    return random.randint(101, 999)\n",
    "\n"
   ]
  },
  {
   "cell_type": "markdown",
   "metadata": {},
   "source": [
    "## Detailed Explanation of the Solve Numbers Function\n",
    "\n",
    "The `solve_numbers` function is designed to find a solution to the Countdown numbers game by trying to reach or get as close as possible to a given target number using a selected set of numbers. This function employs a recursive backtracking algorithm that systematically explores all possible ways the provided numbers can be combined through addition, subtraction, multiplication, and division to achieve the target value.\n",
    "\n",
    "### Key Components of the Function\n",
    "\n",
    "- **Base Case and Recursion**: The recursive function, named `helper`, is called within `solve_numbers`. It attempts to construct expressions that calculate to the target number. The recursion iterates through each number, trying every permissible arithmetic operation. The recursion depth is controlled by the `depth` parameter, which tracks how many numbers have been used.\n",
    "\n",
    "- **Tracking the Best Solution**: Two variables, `best_diff` and `best_expr`, are maintained to store the best (closest) solution found during the recursion. `best_diff` tracks the smallest difference between the current expression's result and the target, while `best_expr` holds the corresponding expression.\n",
    "\n",
    "### Operational Logic\n",
    "\n",
    "1. **Initialization**: The recursion starts with the current total set to zero, an empty expression string, and a list of boolean flags (`used`) to track which numbers have been used.\n",
    "\n",
    "2. **Expression Building**:\n",
    "    - If the current number (`num`) is not used, it is tentatively marked as used, and the function recurses into one of the four operations:\n",
    "        - **Addition**: `current + num`\n",
    "        - **Subtraction**: `current - num`, only if this does not result in a negative number.\n",
    "        - **Multiplication**: `current * num`\n",
    "        - **Division**: `current / num`, only if `num` is not zero and the division results in an integer.\n",
    "    - Each operation appends to the `expression` string, formatting it for clarity and traceability.\n",
    "\n",
    "3. **Backtracking**: After exploring all operations with a given number, the number is marked as unused again, allowing for its reselection in other potential combinations or sequences.\n",
    "\n",
    "4. **Stopping Condition**: If all numbers are used (`depth` equals the number of numbers), the function checks if the current result equals the target or is closer than any previously found results. If so, it updates the `best_diff` and `best_expr`.\n",
    "\n",
    "### Conclusion\n",
    "\n",
    "The `solve_numbers` function exemplifies a powerful application of recursive backtracking to solve a complex combinatorial problem. By dynamically exploring all combinations and efficiently pruning less promising paths, it manages to find the most accurate solution or the nearest possible alternative when an exact match isn't feasible.\n",
    "\n"
   ]
  },
  {
   "cell_type": "code",
   "execution_count": 6,
   "metadata": {},
   "outputs": [
    {
     "name": "stdout",
     "output_type": "stream",
     "text": [
      "Numbers: [8, 4, 1, 3, 25, 1]\n",
      "Target: 725\n",
      "Best Solution: (((((8 * 4) + 1) - 3) - 1) * 25), Difference: 0\n"
     ]
    }
   ],
   "source": [
    "\n",
    "def solve_numbers(numbers, target):\n",
    "    best_diff = float('inf')\n",
    "    best_expr = None\n",
    "\n",
    "    def helper(current, expression, used, depth=0):\n",
    "        nonlocal best_diff, best_expr\n",
    "        if depth == len(numbers):\n",
    "            diff = abs(target - current)\n",
    "            if diff < best_diff:\n",
    "                best_diff = diff\n",
    "                best_expr = expression\n",
    "            return\n",
    "\n",
    "        for i in range(len(numbers)):\n",
    "            if not used[i]:  # Check if the number is already used\n",
    "                num = numbers[i]\n",
    "                used[i] = True  # Mark this number as used\n",
    "\n",
    "                # Try using this number in different operations\n",
    "                if expression:  # If there is an existing expression\n",
    "                    helper(current + num, f'({expression} + {num})', used, depth + 1)\n",
    "                    if current - num >= 0:  # Ensure no negative results\n",
    "                        helper(current - num, f'({expression} - {num})', used, depth + 1)\n",
    "                    helper(current * num, f'({expression} * {num})', used, depth + 1)\n",
    "                    if current % num == 0 and num != 0:  # Ensure division results in whole numbers\n",
    "                        helper(current // num, f'({expression} / {num})', used, depth + 1)\n",
    "                else:  # First number, initiate the expression\n",
    "                    helper(num, str(num), used, depth + 1)\n",
    "\n",
    "                used[i] = False  # Unmark this number for further exploration\n",
    "\n",
    "    # Start the recursive function with initial values\n",
    "    helper(0, '', [False] * len(numbers))\n",
    "    return best_expr, best_diff\n"
   ]
  },
  {
   "cell_type": "markdown",
   "metadata": {},
   "source": [
    "## Example Usage\n",
    "\n",
    "Below, we demonstrate how the `generate_numbers` and `generate_target` functions are used to set up a game scenario, and then how the `solve_numbers` function is applied to find a solution or the closest approximation to the target number.\n"
   ]
  },
  {
   "cell_type": "code",
   "execution_count": null,
   "metadata": {},
   "outputs": [],
   "source": [
    "\n",
    "# Example usage\n",
    "numbers = generate_numbers()\n",
    "target = generate_target()\n",
    "print(\"Numbers:\", numbers)\n",
    "print(\"Target:\", target)\n",
    "solution, difference = solve_numbers(numbers, target)\n",
    "print(\"Best Solution: {}, Difference: {}\".format(solution, difference))\n",
    "\n"
   ]
  },
  {
   "cell_type": "markdown",
   "metadata": {},
   "source": [
    "## Tests\n",
    "\n",
    "### Basic Functionality Test"
   ]
  },
  {
   "cell_type": "code",
   "execution_count": 7,
   "metadata": {},
   "outputs": [
    {
     "name": "stdout",
     "output_type": "stream",
     "text": [
      "Test 1 - Numbers: [1, 3, 5, 7, 25, 50], Target: 51, Solution: (((((1 + 3) * 7) * 50) / 25) - 5), Difference: 0\n"
     ]
    }
   ],
   "source": [
    "numbers = [1, 3, 5, 7, 25, 50]\n",
    "target = 51  # 50 + 1\n",
    "solution, difference = solve_numbers(numbers, target)\n",
    "print(f\"Test 1 - Numbers: {numbers}, Target: {target}, Solution: {solution}, Difference: {difference}\")\n"
   ]
  },
  {
   "cell_type": "markdown",
   "metadata": {},
   "source": [
    "### No Possible Solution Test"
   ]
  },
  {
   "cell_type": "code",
   "execution_count": 8,
   "metadata": {},
   "outputs": [
    {
     "name": "stdout",
     "output_type": "stream",
     "text": [
      "Test - Numbers: [1, 2, 3, 4, 5, 6], Target: 999, Solution: (((((1 + 3) * 2) * 4) * 5) * 6), Difference: 39\n"
     ]
    }
   ],
   "source": [
    "def no_solution_possible_test():\n",
    "    # Test numbers that, even when multiplied together, do not reach the high target\n",
    "    numbers = [1, 2, 3, 4, 5, 6]\n",
    "    target = 999 # impossible with the given numbers\n",
    "    solution, difference = solve_numbers(numbers, target)\n",
    "    print(f\"Test - Numbers: {numbers}, Target: {target}, Solution: {solution}, Difference: {difference}\")\n",
    "\n",
    "no_solution_possible_test()\n",
    "\n"
   ]
  },
  {
   "cell_type": "markdown",
   "metadata": {},
   "source": [
    "### Use of all operations test"
   ]
  },
  {
   "cell_type": "code",
   "execution_count": 9,
   "metadata": {},
   "outputs": [
    {
     "name": "stdout",
     "output_type": "stream",
     "text": [
      "Test 3 - Numbers: [75, 8, 9, 1, 50, 7], Target: 434, Solution: (((((75 + 1) * 8) - 50) / 9) * 7), Difference: 0\n"
     ]
    }
   ],
   "source": [
    "numbers = [75, 8, 9, 1, 50, 7]\n",
    "target = 434  # Complex operations needed\n",
    "solution, difference = solve_numbers(numbers, target)\n",
    "print(f\"Test 3 - Numbers: {numbers}, Target: {target}, Solution: {solution}, Difference: {difference}\")\n"
   ]
  },
  {
   "cell_type": "markdown",
   "metadata": {},
   "source": [
    "### Edge cases test"
   ]
  },
  {
   "cell_type": "code",
   "execution_count": 10,
   "metadata": {},
   "outputs": [
    {
     "name": "stdout",
     "output_type": "stream",
     "text": [
      "Test 4 - Numbers: [25, 4, 8, 6, 5, 2], Target: 101, Solution: (((((25 + 4) - 8) * 5) - 6) + 2), Difference: 0\n",
      "Test 4 - Numbers: [25, 4, 8, 6, 5, 2], Target: 999, Solution: (((((25 + 6) * 4) * 8) + 5) + 2), Difference: 0\n"
     ]
    }
   ],
   "source": [
    "numbers = generate_numbers()\n",
    "targets = [101, 999]  # Testing edge values\n",
    "for target in targets:\n",
    "    solution, difference = solve_numbers(numbers, target)\n",
    "    print(f\"Test 4 - Numbers: {numbers}, Target: {target}, Solution: {solution}, Difference: {difference}\")\n"
   ]
  }
 ],
 "metadata": {
  "kernelspec": {
   "display_name": "base",
   "language": "python",
   "name": "python3"
  },
  "language_info": {
   "codemirror_mode": {
    "name": "ipython",
    "version": 3
   },
   "file_extension": ".py",
   "mimetype": "text/x-python",
   "name": "python",
   "nbconvert_exporter": "python",
   "pygments_lexer": "ipython3",
   "version": "3.11.7"
  }
 },
 "nbformat": 4,
 "nbformat_minor": 2
}
