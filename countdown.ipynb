{
 "cells": [
  {
   "cell_type": "markdown",
   "metadata": {},
   "source": [
    "# Countdown Number Game Solver\n",
    "\n",
    "## Introduction\n",
    "\n",
    "The Countdown Numbers Game is a popular segment of the television show \"Countdown,\" where contestants are challenged to reach a target number using a combination of six randomly selected numbers. The available numbers include two sets of integers from 1 to 10, and one set each of the larger numbers 25, 50, 75, and 100. Contestants are allowed to use each of these numbers once to perform operations of addition, subtraction, multiplication, and division to arrive at a randomly generated target number between 101 and 999.\n",
    "\n",
    "The complexity of this game arises not just from the randomness and variety of the numbers provided but also from the constraints on the operations. For example, division operations must result in integer outcomes, and subtraction operations must not result in negative numbers. This makes the strategic selection and combination of operations critical.\n",
    "\n",
    "This notebook aims to develop and implement a solution to solve the Countdown numbers game by creating a Python function named `solve_numbers`. This function will take any list of six numbers and a target number, and return a solution where possible. The focus will be on demonstrating how computational theory can be applied to solve such problems efficiently and exploring different computational paradigms and algorithms. Additionally, this notebook will serve as a platform to analyze the complexity of the problem and discuss the theoretical underpinnings of the chosen solution strategy."
   ]
  },
  {
   "cell_type": "markdown",
   "metadata": {},
   "source": [
    "# Theory and Research\n",
    "\n",
    "## Computational Complexity of the Countdown Numbers Game\n",
    "\n",
    "The Countdown Numbers Game presents an intriguing challenge from a computational perspective, primarily due to its reliance on combinatorial operations among selected numbers using basic arithmetic functions. The task is to determine whether a target number can be reached using any combination of six randomly chosen numbers and the operations of addition, subtraction, multiplication, and division.\n",
    "\n",
    "## Complexity Analysis of the Countdown Numbers Game\n",
    "\n",
    "The Countdown Numbers Game is a complex problem that involves generating and evaluating combinations of numbers and operations. To better understand its computational complexity, we analyze it through the lens of combinatorial mathematics and computational complexity theory.\n",
    "\n",
    "## Combinatorial Analysis\n",
    "\n",
    "The game involves choosing operations (addition, subtraction, multiplication, division) to apply to any combination of six selected numbers. The primary challenge is not only selecting the numbers but also determining the sequence of operations that will yield the target number.\n",
    "\n",
    "#### Number of Combinations:\n",
    "Each of the six numbers can be used once in any calculation sequence, allowing for permutations of these numbers. The number of permutations of six numbers is `6!` (factorial of 6), which equals 720 different ways to arrange these numbers.\n",
    "\n",
    "#### Operation Choices:\n",
    "For each pair of numbers in a sequence, there are 4 potential operations. If we consider a simple linear sequence of operations (without considering the reuse of intermediate results in further operations), the total number of operation sequences for six numbers can be calculated as:\n",
    "$$ 4^{(n-1)} $$\n",
    "where \\( n \\) is the number of numbers, leading to \\( 4^{5} = 1024 \\) sequences of operations for 6 numbers.\n",
    "\n",
    "Combining both the permutations of numbers and the sequence of operations, the total number of potential combinations to evaluate becomes:\n",
    "$$ 6! \\times 4^{5} = 720 \\times 1024 = 737280 $$\n",
    "\n",
    "### Computational Complexity Considerations\n",
    "\n",
    "#### NP-Completeness:\n",
    "The Countdown game can be likened to the \"Subset Sum Problem\" in computer science, where the task is to determine if there is a subset of numbers that can sum to a target number. However, the Countdown game extends this by allowing multiple operations, not just summation.\n",
    "\n",
    "This problem is NP-Complete because it requires checking all possible combinations of numbers and operations to verify if a solution exists. This characteristic is evident as there is no known algorithm that can solve all instances of this problem efficiently (in polynomial time).\n",
    "\n",
    "#### Real-Time Complexity:\n",
    "Given the game's nature and typical play constraints (30 seconds per round), an efficient solution must execute within these tight bounds, often requiring heuristic approaches or approximations rather than exhaustive exploration, especially as the number set and operation complexity increase.\n",
    "\n",
    "### Practical Implications\n",
    "\n",
    "The factorial growth in permutations combined with the exponential increase in operation sequences suggests that a brute-force approach to solving the Countdown game is impractical for larger sets or under real-time constraints. This complexity analysis supports the exploration of more sophisticated algorithms, such as backtracking with pruning, dynamic programming for specific cases, or heuristic-based approaches like genetic algorithms, which can provide near-optimal solutions more efficiently.\n",
    "\n",
    "These insights into the game's complexity help in designing algorithms that are both effective in finding solutions and efficient enough to operate within the game's time constraints.\n",
    "\n",
    "\n",
    "## Research Findings and Existing Solutions\n",
    "\n",
    "Several algorithmic approaches have been explored in similar numerical puzzle games, which can provide insights into possible solutions for the Countdown game.\n",
    "\n",
    "### Literature Review\n",
    "Research in areas such as game theory and artificial intelligence offers various strategies:\n",
    "- **Backtracking Algorithms**: Commonly used for problems where a solution involves a sequence of choices, such as our game. Backtracking would allow us to recursively search through the space of number and operation sequences, backing up at a decision point if a rule violation occurs.\n",
    "- **Dynamic Programming**: This method can be adapted for certain configurations of the game, particularly when reducing the problem to simpler subproblems, although its utility might be limited by the game’s demand for using numbers exactly once.\n",
    "- **Heuristic-Based Approaches**: Algorithms like genetic algorithms or simulated annealing could be applied to explore large search spaces more efficiently than brute force, especially for approaching near-optimal solutions when an exact solution is not feasible.\n",
    "\n",
    "### Comparison to Similar Work\n",
    "Comparative analysis with other number-based games such as \"Sudoku\" and \"KenKen\" indicates that while the fundamental principles of constraint satisfaction apply here as well, the real-time aspect of Countdown and its specific ruleset demand unique solutions. Studies on these games emphasize the effectiveness of hybrid approaches combining several algorithms to balance completeness and efficiency.\n",
    "\n",
    "## Conclusion of Theory and Research\n",
    "This overview underscores the computational intensity of the Countdown numbers game and highlights a spectrum of algorithmic strategies that can be tailored to meet the challenge. The following section on implementation will explore how these theories can be practically applied to construct an efficient solver for the game.\n"
   ]
  },
  {
   "cell_type": "markdown",
   "metadata": {},
   "source": [
    "# Implementation\n"
   ]
  },
  {
   "cell_type": "markdown",
   "metadata": {},
   "source": [
    "## Number and Target Generation\n",
    "\n",
    "This section of the notebook is dedicated to generating the random set of numbers and the target number for the Countdown game. The function `generate_numbers` selects six numbers from a predefined set that includes both small numbers (1 through 10, each appearing twice) and large numbers (25, 50, 75, and 100, each appearing once). The function `generate_target` randomly picks a target number between 101 and 999, inclusive.\n"
   ]
  },
  {
   "cell_type": "code",
   "execution_count": 27,
   "metadata": {},
   "outputs": [],
   "source": [
    "import random\n",
    "\n",
    "def generate_numbers():\n",
    "    large_numbers = [25, 50, 75, 100]\n",
    "    small_numbers = [1, 2, 3, 4, 5, 6, 7, 8, 9, 10] * 2\n",
    "    all_numbers = large_numbers + small_numbers\n",
    "    return random.sample(all_numbers, k=6)\n",
    "\n",
    "def generate_target():\n",
    "    return random.randint(101, 999)\n",
    "\n"
   ]
  },
  {
   "cell_type": "markdown",
   "metadata": {},
   "source": [
    "## Detailed Explanation of the Solve Numbers Function\n",
    "\n",
    "The `solve_numbers` function is designed to find a solution to the Countdown numbers game by trying to reach or get as close as possible to a given target number using a selected set of numbers. This function employs a recursive backtracking algorithm that systematically explores all possible ways the provided numbers can be combined through addition, subtraction, multiplication, and division to achieve the target value.\n",
    "\n",
    "### Key Components of the Function\n",
    "\n",
    "- **Base Case and Recursion**: The recursive function, named `helper`, is called within `solve_numbers`. It attempts to construct expressions that calculate to the target number. The recursion iterates through each number, trying every permissible arithmetic operation. The recursion depth is controlled by the `depth` parameter, which tracks how many numbers have been used.\n",
    "\n",
    "- **Tracking the Best Solution**: Two variables, `best_diff` and `best_expr`, are maintained to store the best (closest) solution found during the recursion. `best_diff` tracks the smallest difference between the current expression's result and the target, while `best_expr` holds the corresponding expression.\n",
    "\n",
    "### Operational Logic\n",
    "\n",
    "1. **Initialization**: The recursion starts with the current total set to zero, an empty expression string, and a list of boolean flags (`used`) to track which numbers have been used.\n",
    "\n",
    "2. **Expression Building**:\n",
    "    - If the current number (`num`) is not used, it is tentatively marked as used, and the function recurses into one of the four operations:\n",
    "        - **Addition**: `current + num`\n",
    "        - **Subtraction**: `current - num`, only if this does not result in a negative number.\n",
    "        - **Multiplication**: `current * num`\n",
    "        - **Division**: `current / num`, only if `num` is not zero and the division results in an integer.\n",
    "    - Each operation appends to the `expression` string, formatting it for clarity and traceability.\n",
    "\n",
    "3. **Backtracking**: After exploring all operations with a given number, the number is marked as unused again, allowing for its reselection in other potential combinations or sequences.\n",
    "\n",
    "4. **Stopping Condition**: If all numbers are used (`depth` equals the number of numbers), the function checks if the current result equals the target or is closer than any previously found results. If so, it updates the `best_diff` and `best_expr`.\n"
   ]
  },
  {
   "cell_type": "code",
   "execution_count": 28,
   "metadata": {},
   "outputs": [],
   "source": [
    "\n",
    "def solve_numbers(numbers, target):\n",
    "    best_diff = float('inf')\n",
    "    best_expr = None\n",
    "\n",
    "    # Open a file to log the output\n",
    "    with open('solve_numbers_log.txt', 'w') as log_file:\n",
    "        def helper(current, expression, used, depth=0):\n",
    "            nonlocal best_diff, best_expr\n",
    "            diff = abs(target - current)\n",
    "\n",
    "            # Log the current state and the decision process to file\n",
    "            log_file.write(f\"Depth {depth}: Trying expression '{expression}' = {current}, Difference = {diff}\\n\")\n",
    "\n",
    "            if diff < best_diff:\n",
    "                best_diff = diff\n",
    "                best_expr = expression\n",
    "                log_file.write(f\"New best solution found: {best_expr} with difference {best_diff}\\n\")\n",
    "\n",
    "            # Early stopping if exact match is found\n",
    "            if diff == 0:\n",
    "                log_file.write(\"Exact match found, stopping recursion.\\n\")\n",
    "                return\n",
    "\n",
    "            if depth == len(numbers):\n",
    "                log_file.write(\"All numbers used, returning from current path.\\n\")\n",
    "                return\n",
    "\n",
    "            for i in range(len(numbers)):\n",
    "                if not used[i]:  # Check if the number is already used\n",
    "                    num = numbers[i]\n",
    "                    used[i] = True  # Mark this number as used\n",
    "                    log_file.write(f\"Using number {num}\\n\")\n",
    "\n",
    "                    # Try using this number in different operations\n",
    "                    if expression:  # If there is an existing expression\n",
    "                        helper(current + num, f'({expression} + {num})', used, depth + 1)\n",
    "                        if current - num >= 0:  # Ensure no negative results\n",
    "                            helper(current - num, f'({expression} - {num})', used, depth + 1)\n",
    "                        helper(current * num, f'({expression} * {num})', used, depth + 1)\n",
    "                        if current % num == 0 and num != 0:  # Ensure division results in whole numbers\n",
    "                            helper(current // num, f'({expression} / {num})', used, depth + 1)\n",
    "                    else:  # First number, initiate the expression\n",
    "                        helper(num, str(num), used, depth + 1)\n",
    "\n",
    "                    used[i] = False  # Unmark this number for further exploration\n",
    "                    log_file.write(f\"Backtracking from number {num}\\n\")\n",
    "\n",
    "        # Start the recursive function with initial values\n",
    "        helper(0, '', [False] * len(numbers))\n",
    "\n",
    "    return best_expr, best_diff\n",
    "\n"
   ]
  },
  {
   "cell_type": "markdown",
   "metadata": {},
   "source": [
    "\n",
    "### Conclusion\n",
    "\n",
    "The `solve_numbers` function exemplifies a powerful application of recursive backtracking to solve a complex combinatorial problem. By dynamically exploring all combinations and efficiently pruning less promising paths, it manages to find the most accurate solution or the nearest possible alternative when an exact match isn't feasible.\n",
    "\n",
    "Running this code will output a log file to your computer of about 35k kb showing the decision making of the formula\n",
    "\n"
   ]
  },
  {
   "cell_type": "markdown",
   "metadata": {},
   "source": [
    "## Example Usage\n",
    "\n",
    "Below, we demonstrate how the `generate_numbers` and `generate_target` functions are used to set up a game scenario, and then how the `solve_numbers` function is applied to find a solution or the closest approximation to the target number.\n"
   ]
  },
  {
   "cell_type": "code",
   "execution_count": 29,
   "metadata": {},
   "outputs": [
    {
     "name": "stdout",
     "output_type": "stream",
     "text": [
      "Numbers: [2, 7, 6, 7, 25, 9]\n",
      "Target: 224\n"
     ]
    },
    {
     "name": "stdout",
     "output_type": "stream",
     "text": [
      "Best Solution: ((((2 + 7) * 25) + 6) - 7), Difference: 0\n"
     ]
    }
   ],
   "source": [
    "\n",
    "# Example usage\n",
    "numbers = generate_numbers()\n",
    "target = generate_target()\n",
    "print(\"Numbers:\", numbers)\n",
    "print(\"Target:\", target)\n",
    "solution, difference = solve_numbers(numbers, target)\n",
    "print(\"Best Solution: {}, Difference: {}\".format(solution, difference))\n"
   ]
  },
  {
   "cell_type": "markdown",
   "metadata": {},
   "source": [
    "## Tests\n",
    "\n",
    "### Basic Functionality Test"
   ]
  },
  {
   "cell_type": "code",
   "execution_count": 30,
   "metadata": {},
   "outputs": [
    {
     "name": "stdout",
     "output_type": "stream",
     "text": [
      "Test 1 - Numbers: [1, 3, 5, 7, 25, 50], Target: 51, Solution: (((((1 + 3) * 7) * 50) / 25) - 5), Difference: 0\n"
     ]
    }
   ],
   "source": [
    "numbers = [1, 3, 5, 7, 25, 50]\n",
    "target = 51  # 50 + 1\n",
    "solution, difference = solve_numbers(numbers, target)\n",
    "print(f\"Test 1 - Numbers: {numbers}, Target: {target}, Solution: {solution}, Difference: {difference}\")\n"
   ]
  },
  {
   "cell_type": "markdown",
   "metadata": {},
   "source": [
    "### No Possible Solution Test"
   ]
  },
  {
   "cell_type": "code",
   "execution_count": 31,
   "metadata": {},
   "outputs": [
    {
     "name": "stdout",
     "output_type": "stream",
     "text": [
      "Test - Numbers: [1, 2, 3, 4, 5, 6], Target: 999, Solution: (((((1 + 3) * 2) * 4) * 5) * 6), Difference: 39\n"
     ]
    }
   ],
   "source": [
    "def no_solution_possible_test():\n",
    "    # Test numbers that, even when multiplied together, do not reach the high target\n",
    "    numbers = [1, 2, 3, 4, 5, 6]\n",
    "    target = 999 # impossible with the given numbers\n",
    "    solution, difference = solve_numbers(numbers, target)\n",
    "    print(f\"Test - Numbers: {numbers}, Target: {target}, Solution: {solution}, Difference: {difference}\")\n",
    "\n",
    "no_solution_possible_test()\n",
    "\n"
   ]
  },
  {
   "cell_type": "markdown",
   "metadata": {},
   "source": [
    "### Use of all operations test"
   ]
  },
  {
   "cell_type": "code",
   "execution_count": 32,
   "metadata": {},
   "outputs": [
    {
     "name": "stdout",
     "output_type": "stream",
     "text": [
      "Test 3 - Numbers: [75, 8, 9, 1, 50, 7], Target: 434, Solution: (((((75 + 1) * 8) - 50) / 9) * 7), Difference: 0\n"
     ]
    }
   ],
   "source": [
    "numbers = [75, 8, 9, 1, 50, 7]\n",
    "target = 434  # Complex operations needed\n",
    "solution, difference = solve_numbers(numbers, target)\n",
    "print(f\"Test 3 - Numbers: {numbers}, Target: {target}, Solution: {solution}, Difference: {difference}\")\n"
   ]
  },
  {
   "cell_type": "markdown",
   "metadata": {},
   "source": [
    "### Edge cases test"
   ]
  },
  {
   "cell_type": "code",
   "execution_count": 33,
   "metadata": {},
   "outputs": [
    {
     "name": "stdout",
     "output_type": "stream",
     "text": [
      "Test 4 - Numbers: [10, 1, 5, 50, 3, 9], Target: 101, Solution: (((((10 + 1) - 5) * 9) + 50) - 3), Difference: 0\n",
      "Test 4 - Numbers: [10, 1, 5, 50, 3, 9], Target: 999, Solution: (((((10 + 3) - 9) * 5) * 50) - 1), Difference: 0\n"
     ]
    }
   ],
   "source": [
    "numbers = generate_numbers()\n",
    "targets = [101, 999]  # Testing edge values\n",
    "for target in targets:\n",
    "    solution, difference = solve_numbers(numbers, target)\n",
    "    print(f\"Test 4 - Numbers: {numbers}, Target: {target}, Solution: {solution}, Difference: {difference}\")\n"
   ]
  },
  {
   "cell_type": "markdown",
   "metadata": {},
   "source": [
    "## Introduction to Reverse Polish Notation (RPN)\n",
    "\n",
    "### What is Reverse Polish Notation?\n",
    "\n",
    "Reverse Polish Notation (RPN), also known as postfix notation, is a mathematical notation where every operator follows all of its operands. It is an alternative to the more common infix notation, which places the operator between operands (e.g., `3 + 4`). In RPN, the same expression would be written as `3 4 +`, eliminating the need for parentheses to dictate operations order.\n",
    "\n",
    "### Historical Context\n",
    "\n",
    "Developed by Polish logician Jan Łukasiewicz in the 1920s, RPN was designed to reduce ambiguity and redundancy in mathematical expressions. Its practical implementation in computational systems was popularized with the development of HP calculators in the 1970s, which utilized RPN due to its computational efficiency and ease of use in sequential processing.\n",
    "\n",
    "### Benefits of Using RPN in Computational Tasks\n",
    "\n",
    "1. **Simplicity in Calculation**: RPN simplifies the process of manual and computer-based calculation by removing the need for parentheses. This clarity significantly speeds up the calculation process as each operator immediately follows its operands, allowing for straightforward sequential processing.\n",
    "\n",
    "2. **Efficient Memory Use**: In computer calculations, RPN facilitates a stack-based method of evaluation, which is efficient in terms of memory usage and computational steps. Since operations are performed as soon as they are read, RPN does not require holding onto operators or operands once an operation is complete.\n",
    "\n",
    "3. **Elimination of Parentheses**: RPN naturally handles order of operations without the need for parentheses. This characteristic makes it particularly useful in environments where input and parsing simplicity are crucial.\n",
    "\n",
    "### Application to the Countdown Numbers Game\n",
    "\n",
    "In the context of the Countdown Numbers Game, where players construct mathematical expressions to reach a target number from given numbers, RPN can offer a streamlined approach to both formulating and evaluating potential solutions. Implementing a solver using RPN can reduce the complexity of managing multiple nested operations and provide a clear path from problem to solution.\n",
    "\n",
    "As we explore further into the potential applications of RPN within our solver, we will discuss the conversion of standard infix expressions (used in everyday arithmetic) to postfix notation and demonstrate how this conversion simplifies the computational process. This approach not only aligns with advanced computational methods but also enhances the educational value of exploring different paradigms in algorithm design.\n"
   ]
  },
  {
   "cell_type": "markdown",
   "metadata": {},
   "source": [
    "## Applications of Reverse Polish Notation to the Countdown Numbers Game\n",
    "\n",
    "### Simplifying Expression Evaluation\n",
    "\n",
    "One of the key challenges in the Countdown Numbers Game is to efficiently evaluate various combinations of numbers and arithmetic operations to reach a given target number. Traditional infix notation, which uses operators between operands (e.g., `3 + 4`), often requires parsing algorithms to handle operator precedence and parentheses correctly. In contrast, RPN provides a streamlined method for evaluating expressions that leverages a stack-based approach:\n",
    "\n",
    "- **Direct Computation**: Expressions in RPN can be evaluated directly using a simple stack mechanism without the need for parsing operator precedence or handling parentheses. This simplifies the computational logic, making it more efficient and less error-prone.\n",
    "- **Real-time Solution Generation**: Given the real-time constraints of the Countdown game where solutions need to be computed quickly, RPN allows for faster computation by reducing the cognitive load and computational steps required to process expressions.\n",
    "\n",
    "### Algorithm Implementation for RPN\n",
    "\n",
    "To implement an RPN solver for the Countdown game, the following steps can be employed:\n",
    "\n",
    "1. **Conversion of Expressions to RPN**: Develop a function that converts any given arithmetic expression from the standard infix format to RPN. This function will prepare expressions for quick evaluation.\n",
    "\n",
    "2. **RPN Evaluation Engine**: Implement a stack-based evaluation engine that processes RPN expressions. This engine pushes operands onto the stack and applies operations immediately when operators are encountered, using the top items on the stack as operands.\n",
    "\n",
    "\n"
   ]
  },
  {
   "cell_type": "code",
   "execution_count": 44,
   "metadata": {},
   "outputs": [
    {
     "name": "stdout",
     "output_type": "stream",
     "text": [
      "Numbers: [5, 100, 1, 9, 2, 6]\n",
      "Target: 994\n",
      "Found solution: 9 - 5 * 100 * 2 * 1  6 => 9 5 100 * 2 * 1 6 * - = 994\n"
     ]
    }
   ],
   "source": [
    "import itertools\n",
    "import random\n",
    "\n",
    "def generate_numbers():\n",
    "    large_numbers = [25, 50, 75, 100]\n",
    "    small_numbers = [1, 2, 3, 4, 5, 6, 7, 8, 9, 10] * 2\n",
    "    return random.sample(large_numbers + small_numbers, k=6)\n",
    "\n",
    "def generate_target():\n",
    "    return random.randint(101, 999)\n",
    "\n",
    "def infix_to_rpn(expression):\n",
    "    precedence = {'+': 1, '-': 1, '*': 2, '/': 2}\n",
    "    associativity = {'+': 'L', '-': 'L', '*': 'L', '/': 'L'}\n",
    "    stack = []\n",
    "    output = []\n",
    "    tokens = expression.split()\n",
    "    \n",
    "    for token in tokens:\n",
    "        if token.isdigit():  # if operand, add to output\n",
    "            output.append(token)\n",
    "        elif token in precedence:  # if operator, pop from stack to output based on precedence and associativity\n",
    "            while (stack and stack[-1] != '(' and\n",
    "                   (precedence[stack[-1]] > precedence[token] or\n",
    "                    (precedence[stack[-1]] == precedence[token] and associativity[token] == 'L'))):\n",
    "                output.append(stack.pop())\n",
    "            stack.append(token)\n",
    "        elif token == '(':  # push '(' to stack\n",
    "            stack.append(token)\n",
    "        elif token == ')':  # pop from stack to output until '(' is encountered\n",
    "            while stack and stack[-1] != '(':\n",
    "                output.append(stack.pop())\n",
    "            if stack and stack[-1] == '(':\n",
    "                stack.pop()  # pop the '(' itself\n",
    "\n",
    "    while stack:  # pop all operators remaining in stack to output\n",
    "        output.append(stack.pop())\n",
    "\n",
    "    return ' '.join(output)\n",
    "\n",
    "\n",
    "def evaluate_rpn(expression):\n",
    "    stack = []\n",
    "    for token in expression.split():\n",
    "        if token.isdigit():\n",
    "            stack.append(int(token))\n",
    "        else:\n",
    "            b = stack.pop()\n",
    "            a = stack.pop()\n",
    "            if token == '+': stack.append(a + b)\n",
    "            elif token == '-': stack.append(a - b)\n",
    "            elif token == '*': stack.append(a * b)\n",
    "            elif token == '/': stack.append(a // b)  # Assume no division by zero\n",
    "    return stack.pop()\n",
    "\n",
    "def generate_expressions(numbers):\n",
    "    ops = ['+', '-', '*', '/']\n",
    "    results = []\n",
    "    for num_perm in itertools.permutations(numbers):\n",
    "        for ops_comb in itertools.product(ops, repeat=len(numbers) - 1):\n",
    "            expr_parts = []\n",
    "            for num, op in zip(num_perm, ops_comb + ('',)):  # add empty to match length\n",
    "                if expr_parts:\n",
    "                    expr_parts.append(op)\n",
    "                expr_parts.append(str(num))\n",
    "            expression = ' '.join(expr_parts)\n",
    "            results.append(expression)\n",
    "    return results\n",
    "\n",
    "\n",
    "def find_solution(numbers, target):\n",
    "    expressions = generate_expressions(numbers)\n",
    "    for expr in expressions:\n",
    "        rpn_expr = infix_to_rpn(expr)\n",
    "        result = evaluate_rpn(rpn_expr)\n",
    "        if result == target:\n",
    "            return expr, rpn_expr, result\n",
    "    return None, None, None\n",
    "\n",
    "# Example usage:\n",
    "numbers = generate_numbers()\n",
    "target = generate_target()\n",
    "print(\"Numbers:\", numbers)\n",
    "print(\"Target:\", target)\n",
    "expression, rpn_expression, result = find_solution(numbers, target)\n",
    "if expression:\n",
    "    print(f\"Found solution: {expression} => {rpn_expression} = {result}\")\n",
    "else:\n",
    "    print(\"No solution found.\")\n"
   ]
  },
  {
   "cell_type": "markdown",
   "metadata": {},
   "source": [
    "# Refrences \n",
    "\n",
    "Polish Notation with countdown - https://www.ttested.com/polish-countdown/\n",
    "\n",
    "RPM - https://mathworld.wolfram.com/ReversePolishNotation.html\n",
    "\n",
    "Countdown - https://en.wikipedia.org/wiki/Countdown_(game_show)\n",
    "\n",
    "Back Tracking algorithm - https://www.geeksforgeeks.org/backtracking-algorithms/"
   ]
  }
 ],
 "metadata": {
  "kernelspec": {
   "display_name": "base",
   "language": "python",
   "name": "python3"
  },
  "language_info": {
   "codemirror_mode": {
    "name": "ipython",
    "version": 3
   },
   "file_extension": ".py",
   "mimetype": "text/x-python",
   "name": "python",
   "nbconvert_exporter": "python",
   "pygments_lexer": "ipython3",
   "version": "3.11.7"
  }
 },
 "nbformat": 4,
 "nbformat_minor": 2
}
