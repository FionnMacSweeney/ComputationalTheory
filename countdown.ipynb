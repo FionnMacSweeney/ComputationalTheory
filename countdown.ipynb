{
 "cells": [
  {
   "cell_type": "markdown",
   "metadata": {},
   "source": [
    "# Countdown Number Game Solver\n",
    "\n",
    "## Introduction\n",
    "\n",
    "The Countdown Numbers Game is a popular segment of the television show \"Countdown,\" where contestants are challenged to reach a target number using a combination of six randomly selected numbers. The available numbers include two sets of integers from 1 to 10, and one set each of the larger numbers 25, 50, 75, and 100. Contestants are allowed to use each of these numbers once to perform operations of addition, subtraction, multiplication, and division to arrive at a randomly generated target number between 101 and 999.\n",
    "\n",
    "The complexity of this game arises not just from the randomness and variety of the numbers provided but also from the constraints on the operations. For example, division operations must result in integer outcomes, and subtraction operations must not result in negative numbers. This makes the strategic selection and combination of operations critical.\n",
    "\n",
    "This notebook aims to develop and implement a solution to solve the Countdown numbers game by creating a Python function named `solve_numbers`. This function will take any list of six numbers and a target number, and return a solution where possible. The focus will be on demonstrating how computational theory can be applied to solve such problems efficiently and exploring different computational paradigms and algorithms. Additionally, this notebook will serve as a platform to analyze the complexity of the problem and discuss the theoretical underpinnings of the chosen solution strategy."
   ]
  }
 ],
 "metadata": {
  "language_info": {
   "name": "python"
  }
 },
 "nbformat": 4,
 "nbformat_minor": 2
}
